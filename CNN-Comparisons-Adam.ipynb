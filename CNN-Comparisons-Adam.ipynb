{
 "cells": [
  {
   "cell_type": "code",
   "execution_count": 7,
   "metadata": {},
   "outputs": [],
   "source": [
    "import tensorflow\n",
    "from tensorflow.keras.datasets import mnist \n",
    "from tensorflow.keras.layers import Conv2D, MaxPool2D, Flatten \n",
    "from tensorflow.keras.models import Sequential\n",
    "from tensorflow.keras.utils import to_categorical\n",
    "\n",
    "(x_train,y_train),(x_test,y_test) = mnist.load_data()"
   ]
  },
  {
   "cell_type": "code",
   "execution_count": 8,
   "metadata": {},
   "outputs": [],
   "source": [
    "x_train = x_train.reshape(x_train.shape[0],1,28,28)\n",
    "x_test = x_test.reshape(x_test.shape[0],1,28,28)\n",
    "x_train = x_train.astype('float64')\n",
    "x_test = x_test.astype('float64')\n",
    "\n",
    "y_train = to_categorical(y_train,10)\n",
    "y_test = to_categorical(y_test,10)"
   ]
  },
  {
   "cell_type": "code",
   "execution_count": null,
   "metadata": {},
   "outputs": [
    {
     "name": "stdout",
     "output_type": "stream",
     "text": [
      "Train on 60000 samples, validate on 10000 samples\n",
      "Epoch 1/15\n",
      "60000/60000 - 56s - loss: 3.7383 - accuracy: 0.1044 - val_loss: 7.3396 - val_accuracy: 0.1021\n",
      "Epoch 2/15\n",
      "60000/60000 - 49s - loss: 7.3390 - accuracy: 0.1072 - val_loss: 6.9498 - val_accuracy: 0.1084\n",
      "Epoch 3/15\n",
      "60000/60000 - 49s - loss: 6.9518 - accuracy: 0.1134 - val_loss: 4.8154 - val_accuracy: 0.1075\n",
      "Epoch 4/15\n",
      "60000/60000 - 49s - loss: 4.8246 - accuracy: 0.1038 - val_loss: 3.1952 - val_accuracy: 0.1634\n",
      "Epoch 5/15\n",
      "60000/60000 - 51s - loss: 3.2129 - accuracy: 0.1612 - val_loss: 2.6014 - val_accuracy: 0.1543\n",
      "Epoch 6/15\n",
      "60000/60000 - 53s - loss: 2.6162 - accuracy: 0.1549 - val_loss: 2.3823 - val_accuracy: 0.1208\n",
      "Epoch 7/15\n",
      "60000/60000 - 68s - loss: 2.3927 - accuracy: 0.1191 - val_loss: 2.3035 - val_accuracy: 0.1146\n",
      "Epoch 8/15\n",
      "60000/60000 - 77s - loss: 2.3101 - accuracy: 0.1131 - val_loss: 2.2893 - val_accuracy: 0.1137\n",
      "Epoch 9/15\n"
     ]
    }
   ],
   "source": [
    "model = Sequential()\n",
    "\n",
    "model.add(Conv2D(8,kernel_size = 3 , padding = 'same', activation = 'relu',input_shape=(1,28,28)))\n",
    "model.add(MaxPool2D(pool_size = (2,2),padding='same'))\n",
    "model.add(Conv2D(64,kernel_size = 3 , padding = 'same', activation = 'relu'))\n",
    "model.add(MaxPool2D(pool_size = (2,2),padding='same'))\n",
    "model.add(Conv2D(128,kernel_size = 3 , padding = 'same', activation = 'relu'))\n",
    "model.add(MaxPool2D(pool_size = (2,2),padding='same'))\n",
    "model.add(Conv2D(10,kernel_size = 3 , padding = 'same', activation = 'softmax'))\n",
    "model.add(MaxPool2D(pool_size = (4,4),padding='same'))\n",
    "model.add(Flatten())\n",
    "\n",
    "model.compile(loss = 'categorical_crossentropy',optimizer=tensorflow.keras.optimizers.Adam(learning_rate=0.01),\n",
    "              metrics = ['accuracy'])\n",
    "\n",
    "model.fit(x_train,y_train,batch_size=60000,epochs = 15,steps_per_epoch = 1,validation_data=(x_test,y_test),verbose = 2,\n",
    "         validation_steps=1)\n",
    "          \n",
    "          "
   ]
  },
  {
   "cell_type": "code",
   "execution_count": null,
   "metadata": {},
   "outputs": [],
   "source": []
  }
 ],
 "metadata": {
  "kernelspec": {
   "display_name": "Python 3.7 (tensorflow)",
   "language": "python",
   "name": "tensorflow"
  },
  "language_info": {
   "codemirror_mode": {
    "name": "ipython",
    "version": 3
   },
   "file_extension": ".py",
   "mimetype": "text/x-python",
   "name": "python",
   "nbconvert_exporter": "python",
   "pygments_lexer": "ipython3",
   "version": "3.7.7"
  }
 },
 "nbformat": 4,
 "nbformat_minor": 2
}
