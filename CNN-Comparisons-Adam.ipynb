{
 "cells": [
  {
   "cell_type": "code",
   "execution_count": 2,
   "metadata": {},
   "outputs": [],
   "source": [
    "import tensorflow\n",
    "from tensorflow.keras.datasets import mnist \n",
    "from tensorflow.keras.layers import Conv2D, MaxPool2D, Flatten \n",
    "from tensorflow.keras.models import Sequential\n",
    "from tensorflow.keras.utils import to_categorical\n",
    "\n",
    "(x_train,y_train),(x_test,y_test) = mnist.load_data()"
   ]
  },
  {
   "cell_type": "code",
   "execution_count": 3,
   "metadata": {},
   "outputs": [],
   "source": [
    "x_train = x_train.reshape(x_train.shape[0],1,28,28)\n",
    "x_test = x_test.reshape(x_test.shape[0],1,28,28)\n",
    "x_train = x_train.astype('float32')\n",
    "x_test = x_test.astype('float32')\n",
    "x_train /= 255\n",
    "x_test /= 255\n",
    "y_train = to_categorical(y_train,10)\n",
    "y_test = to_categorical(y_test,10)"
   ]
  },
  {
   "cell_type": "code",
   "execution_count": 5,
   "metadata": {},
   "outputs": [
    {
     "name": "stdout",
     "output_type": "stream",
     "text": [
      "Train on 60000 samples, validate on 10000 samples\n",
      "Epoch 1/25\n",
      "60000/60000 - 58s - loss: 2.3021 - accuracy: 0.1160 - val_loss: 2.2966 - val_accuracy: 0.1716\n",
      "Epoch 2/25\n",
      "60000/60000 - 49s - loss: 2.2967 - accuracy: 0.1739 - val_loss: 2.2914 - val_accuracy: 0.2241\n",
      "Epoch 3/25\n",
      "60000/60000 - 54s - loss: 2.2916 - accuracy: 0.2270 - val_loss: 2.2861 - val_accuracy: 0.2856\n",
      "Epoch 4/25\n",
      "60000/60000 - 49s - loss: 2.2864 - accuracy: 0.2839 - val_loss: 2.2802 - val_accuracy: 0.3227\n",
      "Epoch 5/25\n",
      "60000/60000 - 48s - loss: 2.2806 - accuracy: 0.3199 - val_loss: 2.2736 - val_accuracy: 0.3449\n",
      "Epoch 6/25\n",
      "60000/60000 - 46s - loss: 2.2740 - accuracy: 0.3408 - val_loss: 2.2660 - val_accuracy: 0.3603\n",
      "Epoch 7/25\n",
      "60000/60000 - 47s - loss: 2.2666 - accuracy: 0.3561 - val_loss: 2.2576 - val_accuracy: 0.3738\n",
      "Epoch 8/25\n",
      "60000/60000 - 46s - loss: 2.2583 - accuracy: 0.3697 - val_loss: 2.2481 - val_accuracy: 0.3881\n",
      "Epoch 9/25\n",
      "60000/60000 - 48s - loss: 2.2489 - accuracy: 0.3849 - val_loss: 2.2374 - val_accuracy: 0.4021\n",
      "Epoch 10/25\n",
      "60000/60000 - 49s - loss: 2.2383 - accuracy: 0.4011 - val_loss: 2.2254 - val_accuracy: 0.4188\n",
      "Epoch 11/25\n",
      "60000/60000 - 49s - loss: 2.2264 - accuracy: 0.4153 - val_loss: 2.2119 - val_accuracy: 0.4290\n",
      "Epoch 12/25\n",
      "60000/60000 - 48s - loss: 2.2132 - accuracy: 0.4249 - val_loss: 2.1970 - val_accuracy: 0.4332\n",
      "Epoch 13/25\n",
      "60000/60000 - 46s - loss: 2.1984 - accuracy: 0.4303 - val_loss: 2.1805 - val_accuracy: 0.4349\n",
      "Epoch 14/25\n",
      "60000/60000 - 46s - loss: 2.1821 - accuracy: 0.4334 - val_loss: 2.1623 - val_accuracy: 0.4409\n",
      "Epoch 15/25\n",
      "60000/60000 - 46s - loss: 2.1642 - accuracy: 0.4391 - val_loss: 2.1423 - val_accuracy: 0.4496\n",
      "Epoch 16/25\n",
      "60000/60000 - 51s - loss: 2.1444 - accuracy: 0.4477 - val_loss: 2.1203 - val_accuracy: 0.4624\n",
      "Epoch 17/25\n",
      "60000/60000 - 50s - loss: 2.1227 - accuracy: 0.4592 - val_loss: 2.0963 - val_accuracy: 0.4750\n",
      "Epoch 18/25\n",
      "60000/60000 - 48s - loss: 2.0988 - accuracy: 0.4741 - val_loss: 2.0700 - val_accuracy: 0.4879\n",
      "Epoch 19/25\n",
      "60000/60000 - 48s - loss: 2.0728 - accuracy: 0.4899 - val_loss: 2.0414 - val_accuracy: 0.4991\n",
      "Epoch 20/25\n",
      "60000/60000 - 48s - loss: 2.0445 - accuracy: 0.5050 - val_loss: 2.0105 - val_accuracy: 0.5155\n",
      "Epoch 21/25\n",
      "60000/60000 - 49s - loss: 2.0139 - accuracy: 0.5193 - val_loss: 1.9774 - val_accuracy: 0.5298\n",
      "Epoch 22/25\n",
      "60000/60000 - 54s - loss: 1.9812 - accuracy: 0.5369 - val_loss: 1.9422 - val_accuracy: 0.5508\n",
      "Epoch 23/25\n",
      "60000/60000 - 53s - loss: 1.9464 - accuracy: 0.5562 - val_loss: 1.9052 - val_accuracy: 0.5715\n",
      "Epoch 24/25\n",
      "60000/60000 - 49s - loss: 1.9098 - accuracy: 0.5768 - val_loss: 1.8665 - val_accuracy: 0.5933\n",
      "Epoch 25/25\n",
      "60000/60000 - 49s - loss: 1.8715 - accuracy: 0.5984 - val_loss: 1.8267 - val_accuracy: 0.6112\n"
     ]
    },
    {
     "data": {
      "text/plain": [
       "<tensorflow.python.keras.callbacks.History at 0x64b3d0790>"
      ]
     },
     "execution_count": 5,
     "metadata": {},
     "output_type": "execute_result"
    }
   ],
   "source": [
    "model = Sequential()\n",
    "\n",
    "model.add(Conv2D(8,kernel_size = 3 , padding = 'same', activation = 'relu',input_shape=(1,28,28)))\n",
    "model.add(MaxPool2D(pool_size = (2,2),padding='same'))\n",
    "model.add(Conv2D(64,kernel_size = 3 , padding = 'same', activation = 'relu'))\n",
    "model.add(MaxPool2D(pool_size = (2,2),padding='same'))\n",
    "model.add(Conv2D(128,kernel_size = 3 , padding = 'same', activation = 'relu'))\n",
    "model.add(MaxPool2D(pool_size = (2,2),padding='same'))\n",
    "model.add(Conv2D(10,kernel_size = 3 , padding = 'same', activation = 'softmax'))\n",
    "model.add(MaxPool2D(pool_size = (4,4),padding='same'))\n",
    "model.add(Flatten())\n",
    "\n",
    "model.compile(loss = 'categorical_crossentropy',optimizer=tensorflow.keras.optimizers.Adam(learning_rate=0.001),\n",
    "              metrics = ['accuracy'])\n",
    "\n",
    "model.fit(x_train,y_train,batch_size=60000,epochs = 25,steps_per_epoch = 1,validation_data=(x_test,y_test),verbose = 2,\n",
    "         validation_steps=1)\n",
    "          \n",
    "          "
   ]
  },
  {
   "cell_type": "code",
   "execution_count": 6,
   "metadata": {},
   "outputs": [
    {
     "name": "stdout",
     "output_type": "stream",
     "text": [
      "Train on 60000 samples, validate on 10000 samples\n",
      "Epoch 1/25\n",
      "60000/60000 - 56s - loss: 1.8321 - accuracy: 0.6171 - val_loss: 1.7863 - val_accuracy: 0.6300\n",
      "Epoch 2/25\n",
      "60000/60000 - 54s - loss: 1.7921 - accuracy: 0.6339 - val_loss: 1.7459 - val_accuracy: 0.6434\n",
      "Epoch 3/25\n",
      "60000/60000 - 50s - loss: 1.7519 - accuracy: 0.6457 - val_loss: 1.7061 - val_accuracy: 0.6550\n",
      "Epoch 4/25\n",
      "60000/60000 - 49s - loss: 1.7122 - accuracy: 0.6556 - val_loss: 1.6672 - val_accuracy: 0.6617\n",
      "Epoch 5/25\n",
      "60000/60000 - 50s - loss: 1.6735 - accuracy: 0.6618 - val_loss: 1.6298 - val_accuracy: 0.6675\n",
      "Epoch 6/25\n",
      "60000/60000 - 54s - loss: 1.6361 - accuracy: 0.6688 - val_loss: 1.5941 - val_accuracy: 0.6723\n",
      "Epoch 7/25\n",
      "60000/60000 - 54s - loss: 1.6003 - accuracy: 0.6745 - val_loss: 1.5603 - val_accuracy: 0.6756\n",
      "Epoch 8/25\n",
      "60000/60000 - 52s - loss: 1.5665 - accuracy: 0.6791 - val_loss: 1.5284 - val_accuracy: 0.6791\n",
      "Epoch 9/25\n",
      "60000/60000 - 53s - loss: 1.5345 - accuracy: 0.6817 - val_loss: 1.4984 - val_accuracy: 0.6819\n",
      "Epoch 10/25\n",
      "60000/60000 - 50s - loss: 1.5042 - accuracy: 0.6831 - val_loss: 1.4702 - val_accuracy: 0.6840\n",
      "Epoch 11/25\n",
      "60000/60000 - 48s - loss: 1.4757 - accuracy: 0.6838 - val_loss: 1.4436 - val_accuracy: 0.6824\n",
      "Epoch 12/25\n",
      "60000/60000 - 48s - loss: 1.4487 - accuracy: 0.6844 - val_loss: 1.4188 - val_accuracy: 0.6818\n",
      "Epoch 13/25\n",
      "60000/60000 - 53s - loss: 1.4235 - accuracy: 0.6827 - val_loss: 1.3960 - val_accuracy: 0.6830\n",
      "Epoch 14/25\n",
      "60000/60000 - 54s - loss: 1.4002 - accuracy: 0.6828 - val_loss: 1.3750 - val_accuracy: 0.6843\n",
      "Epoch 15/25\n",
      "60000/60000 - 52s - loss: 1.3787 - accuracy: 0.6842 - val_loss: 1.3555 - val_accuracy: 0.6854\n",
      "Epoch 16/25\n",
      "60000/60000 - 46s - loss: 1.3585 - accuracy: 0.6855 - val_loss: 1.3371 - val_accuracy: 0.6903\n",
      "Epoch 17/25\n",
      "60000/60000 - 47s - loss: 1.3395 - accuracy: 0.6890 - val_loss: 1.3199 - val_accuracy: 0.6932\n",
      "Epoch 18/25\n",
      "60000/60000 - 52s - loss: 1.3216 - accuracy: 0.6937 - val_loss: 1.3037 - val_accuracy: 0.6973\n",
      "Epoch 19/25\n",
      "60000/60000 - 58s - loss: 1.3047 - accuracy: 0.6972 - val_loss: 1.2883 - val_accuracy: 0.6994\n",
      "Epoch 20/25\n",
      "60000/60000 - 55s - loss: 1.2887 - accuracy: 0.7006 - val_loss: 1.2735 - val_accuracy: 0.6987\n",
      "Epoch 21/25\n",
      "60000/60000 - 55s - loss: 1.2736 - accuracy: 0.7024 - val_loss: 1.2588 - val_accuracy: 0.7012\n",
      "Epoch 22/25\n",
      "60000/60000 - 62s - loss: 1.2589 - accuracy: 0.7059 - val_loss: 1.2444 - val_accuracy: 0.7013\n",
      "Epoch 23/25\n",
      "60000/60000 - 59s - loss: 1.2445 - accuracy: 0.7048 - val_loss: 1.2306 - val_accuracy: 0.7061\n",
      "Epoch 24/25\n",
      "60000/60000 - 61s - loss: 1.2311 - accuracy: 0.7087 - val_loss: 1.2183 - val_accuracy: 0.6928\n",
      "Epoch 25/25\n",
      "60000/60000 - 57s - loss: 1.2189 - accuracy: 0.6972 - val_loss: 1.2071 - val_accuracy: 0.7184\n"
     ]
    },
    {
     "data": {
      "text/plain": [
       "<tensorflow.python.keras.callbacks.History at 0x64b57ed10>"
      ]
     },
     "execution_count": 6,
     "metadata": {},
     "output_type": "execute_result"
    }
   ],
   "source": [
    "model.fit(x_train,y_train,batch_size=60000,epochs = 25,steps_per_epoch = 1,validation_data=(x_test,y_test),verbose = 2,\n",
    "         validation_steps=1)"
   ]
  },
  {
   "cell_type": "code",
   "execution_count": 7,
   "metadata": {},
   "outputs": [
    {
     "name": "stdout",
     "output_type": "stream",
     "text": [
      "Train on 60000 samples, validate on 10000 samples\n",
      "Epoch 1/25\n",
      "60000/60000 - 56s - loss: 1.2081 - accuracy: 0.7206 - val_loss: 1.1972 - val_accuracy: 0.6762\n",
      "Epoch 2/25\n",
      "60000/60000 - 55s - loss: 1.1980 - accuracy: 0.6811 - val_loss: 1.1846 - val_accuracy: 0.7256\n",
      "Epoch 3/25\n",
      "60000/60000 - 51s - loss: 1.1856 - accuracy: 0.7259 - val_loss: 1.1744 - val_accuracy: 0.7317\n",
      "Epoch 4/25\n",
      "60000/60000 - 53s - loss: 1.1753 - accuracy: 0.7308 - val_loss: 1.1659 - val_accuracy: 0.7041\n",
      "Epoch 5/25\n",
      "60000/60000 - 50s - loss: 1.1665 - accuracy: 0.7083 - val_loss: 1.1553 - val_accuracy: 0.7372\n",
      "Epoch 6/25\n",
      "60000/60000 - 50s - loss: 1.1560 - accuracy: 0.7360 - val_loss: 1.1462 - val_accuracy: 0.7471\n",
      "Epoch 7/25\n",
      "60000/60000 - 53s - loss: 1.1473 - accuracy: 0.7453 - val_loss: 1.1360 - val_accuracy: 0.7233\n",
      "Epoch 8/25\n",
      "60000/60000 - 49s - loss: 1.1375 - accuracy: 0.7229 - val_loss: 1.1265 - val_accuracy: 0.7338\n",
      "Epoch 9/25\n",
      "60000/60000 - 52s - loss: 1.1279 - accuracy: 0.7328 - val_loss: 1.1174 - val_accuracy: 0.7512\n",
      "Epoch 10/25\n",
      "60000/60000 - 53s - loss: 1.1191 - accuracy: 0.7485 - val_loss: 1.1072 - val_accuracy: 0.7375\n",
      "Epoch 11/25\n",
      "60000/60000 - 52s - loss: 1.1094 - accuracy: 0.7378 - val_loss: 1.0982 - val_accuracy: 0.7351\n",
      "Epoch 12/25\n",
      "60000/60000 - 48s - loss: 1.1005 - accuracy: 0.7353 - val_loss: 1.0889 - val_accuracy: 0.7543\n",
      "Epoch 13/25\n",
      "60000/60000 - 48s - loss: 1.0912 - accuracy: 0.7515 - val_loss: 1.0796 - val_accuracy: 0.7542\n",
      "Epoch 14/25\n",
      "60000/60000 - 47s - loss: 1.0825 - accuracy: 0.7524 - val_loss: 1.0703 - val_accuracy: 0.7493\n",
      "Epoch 15/25\n",
      "60000/60000 - 47s - loss: 1.0734 - accuracy: 0.7490 - val_loss: 1.0618 - val_accuracy: 0.7568\n",
      "Epoch 16/25\n",
      "60000/60000 - 48s - loss: 1.0649 - accuracy: 0.7544 - val_loss: 1.0523 - val_accuracy: 0.7613\n",
      "Epoch 17/25\n",
      "60000/60000 - 50s - loss: 1.0559 - accuracy: 0.7589 - val_loss: 1.0433 - val_accuracy: 0.7632\n",
      "Epoch 18/25\n",
      "60000/60000 - 49s - loss: 1.0474 - accuracy: 0.7598 - val_loss: 1.0350 - val_accuracy: 0.7692\n",
      "Epoch 19/25\n",
      "60000/60000 - 7245s - loss: 1.0392 - accuracy: 0.7628 - val_loss: 1.0262 - val_accuracy: 0.7613\n",
      "Epoch 20/25\n",
      "60000/60000 - 7256s - loss: 1.0307 - accuracy: 0.7578 - val_loss: 1.0177 - val_accuracy: 0.7710\n",
      "Epoch 21/25\n",
      "60000/60000 - 7251s - loss: 1.0226 - accuracy: 0.7663 - val_loss: 1.0092 - val_accuracy: 0.7703\n",
      "Epoch 22/25\n",
      "60000/60000 - 7247s - loss: 1.0145 - accuracy: 0.7650 - val_loss: 1.0011 - val_accuracy: 0.7675\n",
      "Epoch 23/25\n",
      "60000/60000 - 7245s - loss: 1.0067 - accuracy: 0.7629 - val_loss: 0.9928 - val_accuracy: 0.7657\n",
      "Epoch 24/25\n",
      "60000/60000 - 2234s - loss: 0.9989 - accuracy: 0.7604 - val_loss: 0.9854 - val_accuracy: 0.7832\n",
      "Epoch 25/25\n",
      "60000/60000 - 51s - loss: 0.9916 - accuracy: 0.7771 - val_loss: 0.9772 - val_accuracy: 0.7668\n"
     ]
    },
    {
     "data": {
      "text/plain": [
       "<tensorflow.python.keras.callbacks.History at 0x68ff8bd10>"
      ]
     },
     "execution_count": 7,
     "metadata": {},
     "output_type": "execute_result"
    }
   ],
   "source": [
    "model.fit(x_train,y_train,batch_size=60000,epochs = 25,steps_per_epoch = 1,validation_data=(x_test,y_test),verbose = 2,\n",
    "         validation_steps=1)"
   ]
  },
  {
   "cell_type": "code",
   "execution_count": 8,
   "metadata": {},
   "outputs": [
    {
     "name": "stdout",
     "output_type": "stream",
     "text": [
      "Train on 60000 samples, validate on 10000 samples\n",
      "Epoch 1/25\n",
      "60000/60000 - 66s - loss: 0.9840 - accuracy: 0.7618 - val_loss: 0.9697 - val_accuracy: 0.7736\n",
      "Epoch 2/25\n",
      "60000/60000 - 59s - loss: 0.9766 - accuracy: 0.7680 - val_loss: 0.9621 - val_accuracy: 0.7810\n",
      "Epoch 3/25\n",
      "60000/60000 - 59s - loss: 0.9694 - accuracy: 0.7747 - val_loss: 0.9550 - val_accuracy: 0.7741\n",
      "Epoch 4/25\n",
      "60000/60000 - 67s - loss: 0.9623 - accuracy: 0.7687 - val_loss: 0.9480 - val_accuracy: 0.7755\n",
      "Epoch 5/25\n",
      "60000/60000 - 57s - loss: 0.9556 - accuracy: 0.7690 - val_loss: 0.9412 - val_accuracy: 0.7808\n",
      "Epoch 6/25\n",
      "60000/60000 - 69s - loss: 0.9492 - accuracy: 0.7744 - val_loss: 0.9350 - val_accuracy: 0.7811\n",
      "Epoch 7/25\n",
      "60000/60000 - 69s - loss: 0.9427 - accuracy: 0.7757 - val_loss: 0.9285 - val_accuracy: 0.7738\n",
      "Epoch 8/25\n",
      "60000/60000 - 58s - loss: 0.9365 - accuracy: 0.7693 - val_loss: 0.9220 - val_accuracy: 0.7865\n",
      "Epoch 9/25\n",
      "60000/60000 - 57s - loss: 0.9302 - accuracy: 0.7818 - val_loss: 0.9158 - val_accuracy: 0.7779\n",
      "Epoch 10/25\n",
      "60000/60000 - 57s - loss: 0.9239 - accuracy: 0.7752 - val_loss: 0.9098 - val_accuracy: 0.7782\n",
      "Epoch 11/25\n",
      "60000/60000 - 57s - loss: 0.9180 - accuracy: 0.7749 - val_loss: 0.9042 - val_accuracy: 0.7871\n",
      "Epoch 12/25\n",
      "60000/60000 - 56s - loss: 0.9123 - accuracy: 0.7835 - val_loss: 0.8984 - val_accuracy: 0.7791\n",
      "Epoch 13/25\n",
      "60000/60000 - 59s - loss: 0.9067 - accuracy: 0.7760 - val_loss: 0.8931 - val_accuracy: 0.7806\n",
      "Epoch 14/25\n",
      "60000/60000 - 57s - loss: 0.9012 - accuracy: 0.7797 - val_loss: 0.8879 - val_accuracy: 0.7868\n",
      "Epoch 15/25\n",
      "60000/60000 - 58s - loss: 0.8959 - accuracy: 0.7849 - val_loss: 0.8823 - val_accuracy: 0.7817\n",
      "Epoch 16/25\n",
      "60000/60000 - 57s - loss: 0.8907 - accuracy: 0.7797 - val_loss: 0.8777 - val_accuracy: 0.7849\n",
      "Epoch 17/25\n",
      "60000/60000 - 57s - loss: 0.8856 - accuracy: 0.7836 - val_loss: 0.8721 - val_accuracy: 0.7855\n",
      "Epoch 18/25\n",
      "60000/60000 - 57s - loss: 0.8807 - accuracy: 0.7844 - val_loss: 0.8681 - val_accuracy: 0.7879\n",
      "Epoch 19/25\n",
      "60000/60000 - 60s - loss: 0.8758 - accuracy: 0.7871 - val_loss: 0.8626 - val_accuracy: 0.7839\n",
      "Epoch 20/25\n",
      "60000/60000 - 66s - loss: 0.8711 - accuracy: 0.7831 - val_loss: 0.8583 - val_accuracy: 0.7923\n",
      "Epoch 21/25\n",
      "60000/60000 - 61s - loss: 0.8664 - accuracy: 0.7913 - val_loss: 0.8534 - val_accuracy: 0.7871\n",
      "Epoch 22/25\n",
      "60000/60000 - 60s - loss: 0.8619 - accuracy: 0.7861 - val_loss: 0.8490 - val_accuracy: 0.7918\n",
      "Epoch 23/25\n",
      "60000/60000 - 55s - loss: 0.8574 - accuracy: 0.7896 - val_loss: 0.8446 - val_accuracy: 0.7949\n",
      "Epoch 24/25\n",
      "60000/60000 - 55s - loss: 0.8530 - accuracy: 0.7926 - val_loss: 0.8399 - val_accuracy: 0.7935\n",
      "Epoch 25/25\n",
      "60000/60000 - 60s - loss: 0.8488 - accuracy: 0.7912 - val_loss: 0.8359 - val_accuracy: 0.7965\n"
     ]
    },
    {
     "data": {
      "text/plain": [
       "<tensorflow.python.keras.callbacks.History at 0x6905a7b50>"
      ]
     },
     "execution_count": 8,
     "metadata": {},
     "output_type": "execute_result"
    }
   ],
   "source": [
    "model.fit(x_train,y_train,batch_size=60000,epochs = 25,steps_per_epoch = 1,validation_data=(x_test,y_test),verbose = 2,\n",
    "         validation_steps=1)"
   ]
  },
  {
   "cell_type": "code",
   "execution_count": 9,
   "metadata": {},
   "outputs": [
    {
     "name": "stdout",
     "output_type": "stream",
     "text": [
      "Train on 60000 samples, validate on 10000 samples\n",
      "Epoch 1/25\n",
      "60000/60000 - 67s - loss: 0.8446 - accuracy: 0.7944 - val_loss: 0.8313 - val_accuracy: 0.7968\n",
      "Epoch 2/25\n",
      "60000/60000 - 61s - loss: 0.8404 - accuracy: 0.7935 - val_loss: 0.8274 - val_accuracy: 0.8000\n",
      "Epoch 3/25\n",
      "60000/60000 - 58s - loss: 0.8362 - accuracy: 0.7984 - val_loss: 0.8221 - val_accuracy: 0.7978\n",
      "Epoch 4/25\n",
      "60000/60000 - 60s - loss: 0.8319 - accuracy: 0.7960 - val_loss: 0.8182 - val_accuracy: 0.8081\n",
      "Epoch 5/25\n",
      "60000/60000 - 60s - loss: 0.8274 - accuracy: 0.8048 - val_loss: 0.8121 - val_accuracy: 0.8052\n",
      "Epoch 6/25\n",
      "60000/60000 - 60s - loss: 0.8224 - accuracy: 0.8038 - val_loss: 0.8071 - val_accuracy: 0.8123\n",
      "Epoch 7/25\n",
      "60000/60000 - 59s - loss: 0.8169 - accuracy: 0.8107 - val_loss: 0.8001 - val_accuracy: 0.8142\n",
      "Epoch 8/25\n",
      "60000/60000 - 64s - loss: 0.8110 - accuracy: 0.8130 - val_loss: 0.7942 - val_accuracy: 0.8171\n",
      "Epoch 9/25\n",
      "60000/60000 - 59s - loss: 0.8052 - accuracy: 0.8155 - val_loss: 0.7887 - val_accuracy: 0.8149\n",
      "Epoch 10/25\n",
      "60000/60000 - 54s - loss: 0.7999 - accuracy: 0.8134 - val_loss: 0.7834 - val_accuracy: 0.8144\n",
      "Epoch 11/25\n",
      "60000/60000 - 54s - loss: 0.7953 - accuracy: 0.8136 - val_loss: 0.7792 - val_accuracy: 0.8161\n",
      "Epoch 12/25\n",
      "60000/60000 - 56s - loss: 0.7909 - accuracy: 0.8149 - val_loss: 0.7739 - val_accuracy: 0.8118\n",
      "Epoch 13/25\n",
      "60000/60000 - 52s - loss: 0.7864 - accuracy: 0.8120 - val_loss: 0.7704 - val_accuracy: 0.8130\n",
      "Epoch 14/25\n",
      "60000/60000 - 62s - loss: 0.7822 - accuracy: 0.8134 - val_loss: 0.7655 - val_accuracy: 0.8137\n",
      "Epoch 15/25\n",
      "60000/60000 - 63s - loss: 0.7782 - accuracy: 0.8134 - val_loss: 0.7623 - val_accuracy: 0.8130\n",
      "Epoch 16/25\n",
      "60000/60000 - 59s - loss: 0.7743 - accuracy: 0.8128 - val_loss: 0.7574 - val_accuracy: 0.8151\n",
      "Epoch 17/25\n",
      "60000/60000 - 55s - loss: 0.7704 - accuracy: 0.8134 - val_loss: 0.7542 - val_accuracy: 0.8165\n",
      "Epoch 18/25\n",
      "60000/60000 - 55s - loss: 0.7663 - accuracy: 0.8141 - val_loss: 0.7494 - val_accuracy: 0.8177\n",
      "Epoch 19/25\n",
      "60000/60000 - 55s - loss: 0.7625 - accuracy: 0.8154 - val_loss: 0.7471 - val_accuracy: 0.8176\n",
      "Epoch 20/25\n",
      "60000/60000 - 63s - loss: 0.7591 - accuracy: 0.8155 - val_loss: 0.7430 - val_accuracy: 0.8161\n",
      "Epoch 21/25\n",
      "60000/60000 - 66s - loss: 0.7560 - accuracy: 0.8130 - val_loss: 0.7413 - val_accuracy: 0.8200\n",
      "Epoch 22/25\n",
      "60000/60000 - 63s - loss: 0.7531 - accuracy: 0.8182 - val_loss: 0.7370 - val_accuracy: 0.8157\n",
      "Epoch 23/25\n",
      "60000/60000 - 61s - loss: 0.7503 - accuracy: 0.8133 - val_loss: 0.7351 - val_accuracy: 0.8189\n",
      "Epoch 24/25\n",
      "60000/60000 - 60s - loss: 0.7471 - accuracy: 0.8182 - val_loss: 0.7303 - val_accuracy: 0.8174\n",
      "Epoch 25/25\n",
      "60000/60000 - 64s - loss: 0.7437 - accuracy: 0.8156 - val_loss: 0.7278 - val_accuracy: 0.8194\n"
     ]
    },
    {
     "data": {
      "text/plain": [
       "<tensorflow.python.keras.callbacks.History at 0x6905f34d0>"
      ]
     },
     "execution_count": 9,
     "metadata": {},
     "output_type": "execute_result"
    }
   ],
   "source": [
    "model.fit(x_train,y_train,batch_size=60000,epochs = 25,steps_per_epoch = 1,validation_data=(x_test,y_test),verbose = 2,\n",
    "         validation_steps=1)"
   ]
  },
  {
   "cell_type": "code",
   "execution_count": 10,
   "metadata": {},
   "outputs": [
    {
     "name": "stdout",
     "output_type": "stream",
     "text": [
      "Train on 60000 samples, validate on 10000 samples\n",
      "Epoch 1/25\n",
      "60000/60000 - 67s - loss: 0.7406 - accuracy: 0.8172 - val_loss: 0.7249 - val_accuracy: 0.8198\n",
      "Epoch 2/25\n",
      "60000/60000 - 54s - loss: 0.7380 - accuracy: 0.8172 - val_loss: 0.7220 - val_accuracy: 0.8171\n",
      "Epoch 3/25\n",
      "60000/60000 - 51s - loss: 0.7357 - accuracy: 0.8147 - val_loss: 0.7202 - val_accuracy: 0.8196\n",
      "Epoch 4/25\n",
      "60000/60000 - 51s - loss: 0.7331 - accuracy: 0.8167 - val_loss: 0.7165 - val_accuracy: 0.8172\n",
      "Epoch 5/25\n",
      "60000/60000 - 56s - loss: 0.7304 - accuracy: 0.8160 - val_loss: 0.7147 - val_accuracy: 0.8184\n",
      "Epoch 6/25\n",
      "60000/60000 - 64s - loss: 0.7279 - accuracy: 0.8151 - val_loss: 0.7119 - val_accuracy: 0.8188\n",
      "Epoch 7/25\n",
      "60000/60000 - 62s - loss: 0.7256 - accuracy: 0.8160 - val_loss: 0.7094 - val_accuracy: 0.8190\n",
      "Epoch 8/25\n",
      "60000/60000 - 55s - loss: 0.7233 - accuracy: 0.8155 - val_loss: 0.7071 - val_accuracy: 0.8180\n",
      "Epoch 9/25\n",
      "60000/60000 - 57s - loss: 0.7209 - accuracy: 0.8151 - val_loss: 0.7041 - val_accuracy: 0.8183\n",
      "Epoch 10/25\n",
      "60000/60000 - 58s - loss: 0.7186 - accuracy: 0.8154 - val_loss: 0.7023 - val_accuracy: 0.8201\n",
      "Epoch 11/25\n",
      "60000/60000 - 60s - loss: 0.7164 - accuracy: 0.8165 - val_loss: 0.6993 - val_accuracy: 0.8182\n",
      "Epoch 12/25\n",
      "60000/60000 - 52s - loss: 0.7143 - accuracy: 0.8138 - val_loss: 0.6976 - val_accuracy: 0.8194\n",
      "Epoch 13/25\n",
      "60000/60000 - 52s - loss: 0.7122 - accuracy: 0.8155 - val_loss: 0.6950 - val_accuracy: 0.8196\n",
      "Epoch 14/25\n",
      "60000/60000 - 51s - loss: 0.7101 - accuracy: 0.8151 - val_loss: 0.6929 - val_accuracy: 0.8181\n",
      "Epoch 15/25\n",
      "60000/60000 - 50s - loss: 0.7080 - accuracy: 0.8139 - val_loss: 0.6910 - val_accuracy: 0.8190\n",
      "Epoch 16/25\n",
      "60000/60000 - 55s - loss: 0.7060 - accuracy: 0.8149 - val_loss: 0.6884 - val_accuracy: 0.8198\n",
      "Epoch 17/25\n",
      "60000/60000 - 62s - loss: 0.7040 - accuracy: 0.8146 - val_loss: 0.6870 - val_accuracy: 0.8192\n",
      "Epoch 18/25\n",
      "60000/60000 - 58s - loss: 0.7020 - accuracy: 0.8145 - val_loss: 0.6842 - val_accuracy: 0.8193\n",
      "Epoch 19/25\n",
      "60000/60000 - 66s - loss: 0.7001 - accuracy: 0.8138 - val_loss: 0.6830 - val_accuracy: 0.8195\n",
      "Epoch 20/25\n",
      "60000/60000 - 58s - loss: 0.6981 - accuracy: 0.8148 - val_loss: 0.6804 - val_accuracy: 0.8195\n",
      "Epoch 21/25\n",
      "60000/60000 - 55s - loss: 0.6963 - accuracy: 0.8141 - val_loss: 0.6793 - val_accuracy: 0.8205\n",
      "Epoch 22/25\n",
      "60000/60000 - 57s - loss: 0.6946 - accuracy: 0.8154 - val_loss: 0.6766 - val_accuracy: 0.8181\n",
      "Epoch 23/25\n",
      "60000/60000 - 61s - loss: 0.6928 - accuracy: 0.8131 - val_loss: 0.6757 - val_accuracy: 0.8201\n",
      "Epoch 24/25\n",
      "60000/60000 - 66s - loss: 0.6910 - accuracy: 0.8152 - val_loss: 0.6727 - val_accuracy: 0.8181\n",
      "Epoch 25/25\n",
      "60000/60000 - 58s - loss: 0.6892 - accuracy: 0.8130 - val_loss: 0.6722 - val_accuracy: 0.8188\n"
     ]
    },
    {
     "data": {
      "text/plain": [
       "<tensorflow.python.keras.callbacks.History at 0x6906ebd50>"
      ]
     },
     "execution_count": 10,
     "metadata": {},
     "output_type": "execute_result"
    }
   ],
   "source": [
    "model.fit(x_train,y_train,batch_size=60000,epochs = 25,steps_per_epoch = 1,validation_data=(x_test,y_test),verbose = 2,\n",
    "         validation_steps=1)"
   ]
  },
  {
   "cell_type": "code",
   "execution_count": null,
   "metadata": {},
   "outputs": [],
   "source": []
  }
 ],
 "metadata": {
  "kernelspec": {
   "display_name": "Python 3.7 (tensorflow)",
   "language": "python",
   "name": "tensorflow"
  },
  "language_info": {
   "codemirror_mode": {
    "name": "ipython",
    "version": 3
   },
   "file_extension": ".py",
   "mimetype": "text/x-python",
   "name": "python",
   "nbconvert_exporter": "python",
   "pygments_lexer": "ipython3",
   "version": "3.7.7"
  }
 },
 "nbformat": 4,
 "nbformat_minor": 2
}
